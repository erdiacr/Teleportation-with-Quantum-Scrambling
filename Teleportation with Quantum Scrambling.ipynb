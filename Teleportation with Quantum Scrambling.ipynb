{
 "cells": [
  {
   "cell_type": "markdown",
   "metadata": {},
   "source": [
    "#                              Teleportation with Quantum Scrambling"
   ]
  },
  {
   "cell_type": "markdown",
   "metadata": {},
   "source": [
    "Kara delikler, uzayda yol alan hiçbir madde veya radyasyonun kaçamayacağı kadar büyük kütle çekim alanlarıdır. Aslında kara delikler ölü yıldızlardır. Çünkü büyük kütleli bir yıldızın enerjisi bittiğinde kendi üzerine çöker ve bir kara delik oluşturur [1].\n",
    "\n",
    "![BlackHole.jpg](BlackHole.jpg)"
   ]
  },
  {
   "cell_type": "markdown",
   "metadata": {},
   "source": [
    "Kara deliklerin güçlü çekim kuvvetinden ışık fotonları dahi kaçamamaktadır. Bu kadar güçlü bir çekime sahip olan objeye gelen ışık geri yansıyamadığı için sürekli kara ve görünmez olarak kalmaktadır. Bu sebeple, içerisinde hiçbir atomun bulunmadığı vakumlu uzay boşluğunun bile aslında atom altı partiküllerle dolu olduğu bilinmektedir.\n",
    "\n",
    "![HawkingRadiation.jpg](HawkingRadiation.jpg)"
   ]
  },
  {
   "cell_type": "markdown",
   "metadata": {},
   "source": [
    "Bu partiküller yoktan var olup yeniden yok olmaktadır. Bir anda ortaya çıkan partiküllerin yok olmasının nedeni çift olarak oluşmalarıdır. Bu partiküllere madde ve anti-madde denilmektedir. Madde ile anti-madde arasındaki tek fark birinin negatif diğerinin pozitif elektrik yükü taşımasıdır. Bu iki partikül uzay boşluğunda birbirine temas ettiği anda imha olmakta ve geriye bir şey kalmamaktadır. Eğer bu olay bir kara deliğin yakınında meydana gelirse durum farklı şekilde gelişmektedir. Yüksek yerçekimi gücü madde ve anti-maddeyi birbirinden koparmayı başarmaktadır ve negatif yük taşıyan partikül kara deliğin içine düşerken pozitif yüklü olan ayrışmanın ortaya çıkardığı enerji ile dışarı kaçmaktadır. Kara delik negatif yüklü parçacık yüzünden enerji kaybeder ve dışarıda kalan pozitif parçacık bu enerjiyi uzaklaştırır. Bu olaya Hawking Işıması denir [2]."
   ]
  },
  {
   "cell_type": "markdown",
   "metadata": {},
   "source": [
    "### Hawking Radyasyonu ile Kara Delik Teleportasyonu"
   ]
  },
  {
   "cell_type": "markdown",
   "metadata": {},
   "source": [
    "![HawkingRadiation2.png](HawkingRadiation2.png)"
   ]
  },
  {
   "cell_type": "markdown",
   "metadata": {},
   "source": [
    "Yaklaşımın altındaki sezgi, kara delik dinamiğinin bir üniter operatör U olarak modellenebileceği varsayımı altında kara delik bilgi paradoksunun yeniden yorumlanması yatmaktadır. Şematik olarak, bir gözlemci (Alice) gizli bir kuantum durumunu bir kara deliğe atarken, bir dış gözlemci (Bob) daha sonra yayılan Hawking radyasyonunu toplayarak bu durumu yeniden inşa etmeye çalışır [3]."
   ]
  },
  {
   "cell_type": "markdown",
   "metadata": {},
   "source": [
    "### Scrambling"
   ]
  },
  {
   "cell_type": "markdown",
   "metadata": {},
   "source": [
    "Kuantum scrambling, yerel bilginin bir bütün sistem boyunca dağıtılmış ilişkilerin birçok cisim, grup kuantum dolanıklıklarına ve ilişkilerine dağılmasıdır."
   ]
  },
  {
   "cell_type": "markdown",
   "metadata": {},
   "source": [
    "![TeleportationCircuit.png](TeleportationCircuit.png)\n",
    "\n",
    "Scrambling sonucu sisteme yayılmış olmuş bilgiyi tespit etmek için kuantum ışınlanma kullanan 7 qubit devre şeması. İlk Qubit, iletilecek olan durumu temsil ederken, kalan 6 qubit EPR (dolanık) çiftlerinde (dikey çizgiler) hazırlanır. İlk 3 qubite, scrambling özellikleri ile karakterize edilen üniter ̂tarafından etkilenir. Işınlanma gerçekleştirmek için 4 - 6 qubitleri U* eşlenik üniter operatörü uygulanır ve (3-4) qubit çifti üzerinde projektif bir EPR ölçümü yapılır. Eğer uniter U maksimal şekilde scrambling yapıyorsa, İlk qubitte depolanan bilgiler delocalize edilir ve qubit 1’in durumunun qubit 7’ye ışınlandığını haber veren ölçümün sonucunda kod çözme mümkün olur.[4]"
   ]
  },
  {
   "cell_type": "markdown",
   "metadata": {},
   "source": [
    "### Önceki Çalışma[4]"
   ]
  },
  {
   "cell_type": "markdown",
   "metadata": {},
   "source": [
    "$$\\hat{U}_s=\\frac{1}{2}\\begin{bmatrix} \n",
    "-1 & 0 & 0 & -1 & 0 &-1 & -1&0 \\\\\n",
    "0&1&-1&0&-1&0&0&1\\\\ \n",
    "0&-1&1&0&-1&0&0&1 \\\\ \n",
    "1& 0& 0& 1& 0 &-1 & -1 &0 \\\\\n",
    "0& -1& -1& 0& 1& 0& 0 &1& \\\\\n",
    "1& 0 &0 &-1 &0 &1 &-1 &0 \\\\\n",
    "1 &0 &0 &-1 &0 &-1& 1& 0\\\\\n",
    "0& -1& -1& 0 &1& 0& 0& -1\n",
    "\\end{bmatrix}$$\n",
    "\n",
    "Us, 8x8 lik 3 qubit unitary operatör maksimum şekilde scrambling yaparak bilgiyi tüm sisteme yaymaktadır [4]."
   ]
  },
  {
   "cell_type": "markdown",
   "metadata": {},
   "source": [
    "![IyonTuzaklamailescramblingdevresi.png](IyonTuzaklamailescramblingdevresi.png)\n",
    "\n",
    "Us unitary matrisinin iyon tuzaklama yöntemi için kuantum devre modeli yukarıdaki şekilde verilmiştir [4]."
   ]
  },
  {
   "cell_type": "markdown",
   "metadata": {},
   "source": [
    "### Biz Ne Yaptık?"
   ]
  },
  {
   "cell_type": "markdown",
   "metadata": {},
   "source": [
    "![BlackHole%20Scrambling.png](BlackHole%20Scrambling.png)\n",
    "\n",
    "Us unitary operatörü ve devre modelini decompose edip Hadamard, S, CNOT, Z, Rz(pi/2) ve Rz(-pi/2) kuantum kapıları cinsinden yazarak kuantum devre modeli elde edilmiştir. Elde edilen kuantum devre modeline kapı karmaşıklığı açısından bakıldığında O(2n(2+n))dir. Bu qubit sayısı büyüdükçe çok fazla kapı uygulanması anlamına gelir ve gürültü (noise) artacaktır. Bu bağlamda aynı scrambling işlemini gerçekleştiren kuantum kapılar cinsinden ifade edilebilen scrambling operatörü elde edilmiştir. Bu operatör n-qubit için genellenmiştir. (3-4-5) qubitlik için kuantum devre modeli gösterilmiştir."
   ]
  },
  {
   "cell_type": "markdown",
   "metadata": {},
   "source": [
    "#### 3 Qubitlik Scrambler Devresi"
   ]
  },
  {
   "cell_type": "markdown",
   "metadata": {},
   "source": [
    "![3qS.png](3qS.png)"
   ]
  },
  {
   "cell_type": "markdown",
   "metadata": {},
   "source": [
    "#### 4 Qubitlik Scramler Devresi"
   ]
  },
  {
   "cell_type": "markdown",
   "metadata": {},
   "source": [
    "![4qS.png](4qS.png)"
   ]
  },
  {
   "cell_type": "markdown",
   "metadata": {},
   "source": [
    "#### 5 Qubitlik Scrambler Devresi"
   ]
  },
  {
   "cell_type": "markdown",
   "metadata": {},
   "source": [
    "![5qS.png](5qS.png)"
   ]
  },
  {
   "cell_type": "markdown",
   "metadata": {},
   "source": [
    "### Elde Edilen Scrambling Operatörünün Kara Delik Teleportasyonu için Uygulaması"
   ]
  },
  {
   "cell_type": "code",
   "execution_count": 1,
   "metadata": {},
   "outputs": [
    {
     "data": {
      "text/plain": [
       "<qiskit.circuit.instructionset.InstructionSet at 0x15ba6dabe10>"
      ]
     },
     "execution_count": 1,
     "metadata": {},
     "output_type": "execute_result"
    }
   ],
   "source": [
    "from qiskit import*\n",
    "from math import pi\n",
    "from qiskit.visualization import plot_histogram\n",
    "\n",
    "qreg=QuantumRegister(7)\n",
    "creg=ClassicalRegister(7)\n",
    "circuit=QuantumCircuit(qreg,creg)\n",
    "circuit.h(qreg[1])\n",
    "circuit.cx(qreg[1],qreg[4])\n",
    "circuit.h(qreg[5])\n",
    "circuit.cx(qreg[5],qreg[6])\n",
    "circuit.h(qreg[2])\n",
    "circuit.cx(qreg[2],qreg[3])\n",
    "circuit.barrier()\n",
    "circuit.x(qreg[0])\n",
    "circuit.barrier()\n",
    "circuit.s(qreg[0])\n",
    "circuit.s(qreg[1])\n",
    "circuit.s(qreg[4])\n",
    "circuit.s(qreg[5])\n",
    "circuit.crz(pi,qreg[0],qreg[1])\n",
    "circuit.crz(pi,qreg[1],qreg[2])\n",
    "circuit.crz(pi,qreg[5],qreg[4])\n",
    "circuit.crz(pi,qreg[4],qreg[3])\n",
    "circuit.barrier()\n",
    "for i in range(0,6):\n",
    "    circuit.h(qreg[i])\n",
    "circuit.barrier()\n",
    "circuit.crz(pi,qreg[1],qreg[0])\n",
    "circuit.crz(pi,qreg[2],qreg[1])\n",
    "circuit.crz(pi,qreg[4],qreg[5])\n",
    "circuit.crz(pi,qreg[3],qreg[4])\n",
    "circuit.s(qreg[1])\n",
    "circuit.s(qreg[2])\n",
    "circuit.s(qreg[3])\n",
    "circuit.s(qreg[4])\n",
    "circuit.barrier()\n",
    "circuit.cx(qreg[2],qreg[3])\n",
    "circuit.h(qreg[2])\n",
    "circuit.measure(qreg[3],creg[3])\n",
    "circuit.measure(qreg[2],creg[2])\n",
    "circuit.cz(qreg[3],qreg[6])\n",
    "circuit.cx(qreg[2],qreg[6])\n",
    "circuit.barrier()\n",
    "circuit.measure(qreg[6],creg[6])\n",
    "circuit.measure(qreg[0],creg[0])"
   ]
  },
  {
   "cell_type": "code",
   "execution_count": 2,
   "metadata": {},
   "outputs": [
    {
     "data": {
      "image/png": "[encoded data removed]",
      "text/plain": [
       "<Figure size 1672.36x505.68 with 1 Axes>"
      ]
     },
     "execution_count": 2,
     "metadata": {},
     "output_type": "execute_result"
    }
   ],
   "source": [
    "circuit.draw(output='mpl')"
   ]
  },
  {
   "cell_type": "code",
   "execution_count": 3,
   "metadata": {},
   "outputs": [
    {
     "data": {
      "image/png": "[encoded data removed]",
      "text/plain": [
       "<Figure size 504x360 with 1 Axes>"
      ]
     },
     "execution_count": 3,
     "metadata": {},
     "output_type": "execute_result"
    }
   ],
   "source": [
    "job = execute(circuit,Aer.get_backend('qasm_simulator'),shots=1024)\n",
    "counts = job.result().get_counts(circuit)\n",
    "plot_histogram(counts)"
   ]
  },
  {
   "cell_type": "markdown",
   "metadata": {},
   "source": [
    "### Sonuç"
   ]
  },
  {
   "cell_type": "markdown",
   "metadata": {},
   "source": [
    "Bu çalışmada elde edilen scrambling kuantum devre modeli kapı karmaşıklığı açısından önceki çalışmada elde edilen scrambling operatörüne göre daha verimlidir. Bu operatör n-qubit için genelleştirilmiştir ve (3-4-5) qubitlik için kuantum devre modeli gösterilmiştir. Uygulama sonucunda elde edilen ölçüm sonuçlarına bakıldığında en sağdaki bit gönderilen bilgiyi temsil etmektedir. Alice'in gönderdiği bilgi Scramblinge atıldığından dolayı tüm sisteme yayılmıştır. Birinci qubitte yapılan ölçüm sonucunda süperpozisyon durumunda olduğu görülmektedir. En soldaki bit 7. qubitte Bob'un elde ettiği Alice'in göndermiş olduğu qubit durumudur."
   ]
  },
  {
   "cell_type": "markdown",
   "metadata": {},
   "source": [
    "### Kaynakça"
   ]
  },
  {
   "cell_type": "markdown",
   "metadata": {},
   "source": [
    "[1] https://evrimagaci.org/kara-delik-nedir-7748\n",
    "\n",
    "[2] https://tr.euronews.com/2019/06/14/hawking-radyasyonu-deneyle-kanitlandi-tum-kara-delikler-birgun-buharlasip-yok-olacak\n",
    "\n",
    "[3] Yoshida, B., & Yao, N. Y. (2019). Disentangling scrambling and decoherence via quantum teleportation. Physical Review X, 9(1), 011006.\n",
    "\n",
    "[4]Landsman, K. A., Figgatt, C., Schuster, T., Linke, N. M., Yoshida, B., Yao, N. Y., & Monroe, C. (2019). Verified quantum information scrambling. Nature, 567(7746), 61."
   ]
  },
  {
   "cell_type": "markdown",
   "metadata": {},
   "source": [
    "### Teşekkürler"
   ]
  },
  {
   "cell_type": "markdown",
   "metadata": {},
   "source": [
    "Öncelikle Türkiye'de böyle bir etkinliğin düzenlenmesine öncülük eden QTurkey ailesine, etkinlik süresince çeşitli olanaklar sağlayan değerli sponsorlara ve bizimle birlikte iki gün boyunca uyumadan çalışan tüm arkadaşlarımıza teşekkür ederiz."
   ]
  },
  {
   "cell_type": "markdown",
   "metadata": {},
   "source": [
    "### İletişim"
   ]
  },
  {
   "cell_type": "markdown",
   "metadata": {},
   "source": [
    "1. Erdi ACAR - erdi_acr@hotmail.com\n",
    "\n",
    "2. Sabri GÜNDÜZ - sabrigunduz92@gmail.com\n",
    "\n",
    "3. İlknur TEPE - ilknrtepe@gmail.com"
   ]
  },
  {
   "cell_type": "code",
   "execution_count": null,
   "metadata": {},
   "outputs": [],
   "source": []
  }
 ],
 "metadata": {
  "kernelspec": {
   "display_name": "Python 3",
   "language": "python",
   "name": "python3"
  },
  "language_info": {
   "codemirror_mode": {
    "name": "ipython",
    "version": 3
   },
   "file_extension": ".py",
   "mimetype": "text/x-python",
   "name": "python",
   "nbconvert_exporter": "python",
   "pygments_lexer": "ipython3",
   "version": "3.7.3"
  }
 },
 "nbformat": 4,
 "nbformat_minor": 2
}
